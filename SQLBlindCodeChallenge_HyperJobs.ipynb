{
  "nbformat": 4,
  "nbformat_minor": 0,
  "metadata": {
    "colab": {
      "name": "SQLBlindCodeChallenge_HyperJobs.ipynb",
      "provenance": [],
      "collapsed_sections": []
    },
    "kernelspec": {
      "name": "python3",
      "display_name": "Python 3"
    },
    "language_info": {
      "name": "python"
    }
  },
  "cells": [
    {
      "cell_type": "code",
      "metadata": {
        "id": "BgE39TTjDyLR"
      },
      "source": [
        "# Load some libraries we need\n",
        "import pandas as pd\n",
        "%load_ext google.colab.data_table\n",
        "import sqlite3 as sql"
      ],
      "execution_count": null,
      "outputs": []
    },
    {
      "cell_type": "code",
      "metadata": {
        "colab": {
          "base_uri": "https://localhost:8080/"
        },
        "id": "kFE1lN7tD3v2",
        "outputId": "c39c879e-1f2e-4ade-92ef-6b149901eeb0"
      },
      "source": [
        "# Mount Goole Drive\n",
        "from google.colab import drive\n",
        "drive.mount('/content/gdrive', force_remount=True)\n",
        "% cd gdrive/MyDrive/Colab\\ Notebooks"
      ],
      "execution_count": null,
      "outputs": [
        {
          "output_type": "stream",
          "name": "stdout",
          "text": [
            "Mounted at /content/gdrive\n",
            "/content/gdrive/MyDrive/Colab Notebooks\n"
          ]
        }
      ]
    },
    {
      "cell_type": "code",
      "metadata": {
        "id": "r38SjWlQD5LM"
      },
      "source": [
        "# We connect to the database\n",
        "# Be careful to the path, better to copy/paste it\n",
        "db_conn = sql.connect(\"/content/gdrive/MyDrive/hyper_jobs.db\")"
      ],
      "execution_count": null,
      "outputs": []
    },
    {
      "cell_type": "code",
      "metadata": {
        "colab": {
          "base_uri": "https://localhost:8080/",
          "height": 197
        },
        "id": "mgABhc0tYfL3",
        "outputId": "b9782660-2929-42c7-90af-bb91577b3187"
      },
      "source": [
        "#jobs\n",
        "pd.read_sql(\n",
        "    \"\"\"\n",
        "     select * from jobs limit 5\n",
        "        \n",
        "    \"\"\", db_conn\n",
        ")"
      ],
      "execution_count": null,
      "outputs": [
        {
          "output_type": "execute_result",
          "data": {
            "application/vnd.google.colaboratory.module+javascript": "\n      import \"https://ssl.gstatic.com/colaboratory/data_table/a6224c040fa35dcf/data_table.js\";\n\n      window.createDataTable({\n        data: [[{\n            'v': 0,\n            'f': \"0\",\n        },\n{\n            'v': 1,\n            'f': \"1\",\n        },\n\"2020-12-22 00:00:00\",\n\"2020-12-31 00:00:00\",\n{\n            'v': 5,\n            'f': \"5\",\n        },\n{\n            'v': 7,\n            'f': \"7\",\n        },\n{\n            'v': 14,\n            'f': \"14\",\n        },\n{\n            'v': 5,\n            'f': \"5\",\n        },\n\"2020-12-22 00:00:00\",\n{\n            'v': 3.0,\n            'f': \"3.0\",\n        },\n{\n            'v': 5.0,\n            'f': \"5.0\",\n        },\n{\n            'v': 5.0,\n            'f': \"5.0\",\n        }],\n [{\n            'v': 1,\n            'f': \"1\",\n        },\n{\n            'v': 2,\n            'f': \"2\",\n        },\n\"2020-12-22 00:00:00\",\n\"2020-12-31 00:00:00\",\n{\n            'v': 5,\n            'f': \"5\",\n        },\n{\n            'v': 7,\n            'f': \"7\",\n        },\n{\n            'v': 12,\n            'f': \"12\",\n        },\n{\n            'v': 5,\n            'f': \"5\",\n        },\n\"2020-12-22 00:00:00\",\n{\n            'v': 18.0,\n            'f': \"18.0\",\n        },\n{\n            'v': 1.0,\n            'f': \"1.0\",\n        },\n{\n            'v': 2.0,\n            'f': \"2.0\",\n        }],\n [{\n            'v': 2,\n            'f': \"2\",\n        },\n{\n            'v': 3,\n            'f': \"3\",\n        },\n\"2020-12-22 00:00:00\",\n\"2020-12-28 00:00:00\",\n{\n            'v': 6,\n            'f': \"6\",\n        },\n{\n            'v': 6,\n            'f': \"6\",\n        },\n{\n            'v': 13,\n            'f': \"13\",\n        },\n{\n            'v': 2,\n            'f': \"2\",\n        },\n\"2020-12-22 00:00:00\",\n{\n            'v': 24.0,\n            'f': \"24.0\",\n        },\n{\n            'v': 1.0,\n            'f': \"1.0\",\n        },\n{\n            'v': 2.0,\n            'f': \"2.0\",\n        }],\n [{\n            'v': 3,\n            'f': \"3\",\n        },\n{\n            'v': 4,\n            'f': \"4\",\n        },\n\"2020-12-22 00:00:00\",\n\"2021-01-05 00:00:00\",\n{\n            'v': 6,\n            'f': \"6\",\n        },\n{\n            'v': 5,\n            'f': \"5\",\n        },\n{\n            'v': 19,\n            'f': \"19\",\n        },\n{\n            'v': 4,\n            'f': \"4\",\n        },\n\"2020-12-22 00:00:00\",\n{\n            'v': NaN,\n            'f': \"NaN\",\n        },\n{\n            'v': NaN,\n            'f': \"NaN\",\n        },\n{\n            'v': NaN,\n            'f': \"NaN\",\n        }],\n [{\n            'v': 4,\n            'f': \"4\",\n        },\n{\n            'v': 5,\n            'f': \"5\",\n        },\n\"2020-12-22 00:00:00\",\n\"2021-01-02 00:00:00\",\n{\n            'v': 3,\n            'f': \"3\",\n        },\n{\n            'v': 6,\n            'f': \"6\",\n        },\n{\n            'v': 16,\n            'f': \"16\",\n        },\n{\n            'v': 3,\n            'f': \"3\",\n        },\n\"2020-12-22 00:00:00\",\n{\n            'v': 17.0,\n            'f': \"17.0\",\n        },\n{\n            'v': 3.0,\n            'f': \"3.0\",\n        },\n{\n            'v': 2.0,\n            'f': \"2.0\",\n        }]],\n        columns: [[\"number\", \"index\"], [\"number\", \"id\"], [\"string\", \"created_at\"], [\"string\", \"start_date\"], [\"number\", \"employer_id\"], [\"number\", \"duration_hours\"], [\"number\", \"pay_rate\"], [\"number\", \"role_id\"], [\"string\", \"offered_at\"], [\"number\", \"booked_worker\"], [\"number\", \"rating_to_worker\"], [\"number\", \"rating_to_employer\"]],\n        columnOptions: [{\"width\": \"1px\", \"className\": \"index_column\"}],\n        rowsPerPage: 25,\n        helpUrl: \"https://colab.research.google.com/notebooks/data_table.ipynb\",\n        suppressOutputScrolling: true,\n        minimumWidth: undefined,\n      });\n    ",
            "text/html": [
              "<div>\n",
              "<style scoped>\n",
              "    .dataframe tbody tr th:only-of-type {\n",
              "        vertical-align: middle;\n",
              "    }\n",
              "\n",
              "    .dataframe tbody tr th {\n",
              "        vertical-align: top;\n",
              "    }\n",
              "\n",
              "    .dataframe thead th {\n",
              "        text-align: right;\n",
              "    }\n",
              "</style>\n",
              "<table border=\"1\" class=\"dataframe\">\n",
              "  <thead>\n",
              "    <tr style=\"text-align: right;\">\n",
              "      <th></th>\n",
              "      <th>id</th>\n",
              "      <th>created_at</th>\n",
              "      <th>start_date</th>\n",
              "      <th>employer_id</th>\n",
              "      <th>duration_hours</th>\n",
              "      <th>pay_rate</th>\n",
              "      <th>role_id</th>\n",
              "      <th>offered_at</th>\n",
              "      <th>booked_worker</th>\n",
              "      <th>rating_to_worker</th>\n",
              "      <th>rating_to_employer</th>\n",
              "    </tr>\n",
              "  </thead>\n",
              "  <tbody>\n",
              "    <tr>\n",
              "      <th>0</th>\n",
              "      <td>1</td>\n",
              "      <td>2020-12-22 00:00:00</td>\n",
              "      <td>2020-12-31 00:00:00</td>\n",
              "      <td>5</td>\n",
              "      <td>7</td>\n",
              "      <td>14</td>\n",
              "      <td>5</td>\n",
              "      <td>2020-12-22 00:00:00</td>\n",
              "      <td>3.0</td>\n",
              "      <td>5.0</td>\n",
              "      <td>5.0</td>\n",
              "    </tr>\n",
              "    <tr>\n",
              "      <th>1</th>\n",
              "      <td>2</td>\n",
              "      <td>2020-12-22 00:00:00</td>\n",
              "      <td>2020-12-31 00:00:00</td>\n",
              "      <td>5</td>\n",
              "      <td>7</td>\n",
              "      <td>12</td>\n",
              "      <td>5</td>\n",
              "      <td>2020-12-22 00:00:00</td>\n",
              "      <td>18.0</td>\n",
              "      <td>1.0</td>\n",
              "      <td>2.0</td>\n",
              "    </tr>\n",
              "    <tr>\n",
              "      <th>2</th>\n",
              "      <td>3</td>\n",
              "      <td>2020-12-22 00:00:00</td>\n",
              "      <td>2020-12-28 00:00:00</td>\n",
              "      <td>6</td>\n",
              "      <td>6</td>\n",
              "      <td>13</td>\n",
              "      <td>2</td>\n",
              "      <td>2020-12-22 00:00:00</td>\n",
              "      <td>24.0</td>\n",
              "      <td>1.0</td>\n",
              "      <td>2.0</td>\n",
              "    </tr>\n",
              "    <tr>\n",
              "      <th>3</th>\n",
              "      <td>4</td>\n",
              "      <td>2020-12-22 00:00:00</td>\n",
              "      <td>2021-01-05 00:00:00</td>\n",
              "      <td>6</td>\n",
              "      <td>5</td>\n",
              "      <td>19</td>\n",
              "      <td>4</td>\n",
              "      <td>2020-12-22 00:00:00</td>\n",
              "      <td>NaN</td>\n",
              "      <td>NaN</td>\n",
              "      <td>NaN</td>\n",
              "    </tr>\n",
              "    <tr>\n",
              "      <th>4</th>\n",
              "      <td>5</td>\n",
              "      <td>2020-12-22 00:00:00</td>\n",
              "      <td>2021-01-02 00:00:00</td>\n",
              "      <td>3</td>\n",
              "      <td>6</td>\n",
              "      <td>16</td>\n",
              "      <td>3</td>\n",
              "      <td>2020-12-22 00:00:00</td>\n",
              "      <td>17.0</td>\n",
              "      <td>3.0</td>\n",
              "      <td>2.0</td>\n",
              "    </tr>\n",
              "  </tbody>\n",
              "</table>\n",
              "</div>"
            ],
            "text/plain": [
              "   id           created_at  ... rating_to_worker  rating_to_employer\n",
              "0   1  2020-12-22 00:00:00  ...              5.0                 5.0\n",
              "1   2  2020-12-22 00:00:00  ...              1.0                 2.0\n",
              "2   3  2020-12-22 00:00:00  ...              1.0                 2.0\n",
              "3   4  2020-12-22 00:00:00  ...              NaN                 NaN\n",
              "4   5  2020-12-22 00:00:00  ...              3.0                 2.0\n",
              "\n",
              "[5 rows x 11 columns]"
            ]
          },
          "metadata": {},
          "execution_count": 14
        }
      ]
    },
    {
      "cell_type": "code",
      "metadata": {
        "colab": {
          "base_uri": "https://localhost:8080/",
          "height": 154
        },
        "id": "c5l-oA5YcgMT",
        "outputId": "d659a849-5826-4d04-d910-3db50dfb9f06"
      },
      "source": [
        "#level 1: list all workers that are graphic designers\n",
        "pd.read_sql(\n",
        "    \"\"\"\n",
        "     select distinct booked_worker\n",
        "     from jobs \n",
        "     where role_id=1 and booked_worker is not null\n",
        "     --group by 1\n",
        "     limit 3   \n",
        "    \"\"\", db_conn\n",
        ")"
      ],
      "execution_count": null,
      "outputs": [
        {
          "output_type": "execute_result",
          "data": {
            "application/vnd.google.colaboratory.module+javascript": "\n      import \"https://ssl.gstatic.com/colaboratory/data_table/a6224c040fa35dcf/data_table.js\";\n\n      window.createDataTable({\n        data: [[{\n            'v': 0,\n            'f': \"0\",\n        },\n{\n            'v': 16,\n            'f': \"16\",\n        }],\n [{\n            'v': 1,\n            'f': \"1\",\n        },\n{\n            'v': 15,\n            'f': \"15\",\n        }],\n [{\n            'v': 2,\n            'f': \"2\",\n        },\n{\n            'v': 12,\n            'f': \"12\",\n        }]],\n        columns: [[\"number\", \"index\"], [\"number\", \"booked_worker\"]],\n        columnOptions: [{\"width\": \"1px\", \"className\": \"index_column\"}],\n        rowsPerPage: 25,\n        helpUrl: \"https://colab.research.google.com/notebooks/data_table.ipynb\",\n        suppressOutputScrolling: true,\n        minimumWidth: undefined,\n      });\n    ",
            "text/html": [
              "<div>\n",
              "<style scoped>\n",
              "    .dataframe tbody tr th:only-of-type {\n",
              "        vertical-align: middle;\n",
              "    }\n",
              "\n",
              "    .dataframe tbody tr th {\n",
              "        vertical-align: top;\n",
              "    }\n",
              "\n",
              "    .dataframe thead th {\n",
              "        text-align: right;\n",
              "    }\n",
              "</style>\n",
              "<table border=\"1\" class=\"dataframe\">\n",
              "  <thead>\n",
              "    <tr style=\"text-align: right;\">\n",
              "      <th></th>\n",
              "      <th>booked_worker</th>\n",
              "    </tr>\n",
              "  </thead>\n",
              "  <tbody>\n",
              "    <tr>\n",
              "      <th>0</th>\n",
              "      <td>16</td>\n",
              "    </tr>\n",
              "    <tr>\n",
              "      <th>1</th>\n",
              "      <td>15</td>\n",
              "    </tr>\n",
              "    <tr>\n",
              "      <th>2</th>\n",
              "      <td>12</td>\n",
              "    </tr>\n",
              "  </tbody>\n",
              "</table>\n",
              "</div>"
            ],
            "text/plain": [
              "   booked_worker\n",
              "0             16\n",
              "1             15\n",
              "2             12"
            ]
          },
          "metadata": {},
          "execution_count": 30
        }
      ]
    },
    {
      "cell_type": "code",
      "metadata": {
        "colab": {
          "base_uri": "https://localhost:8080/",
          "height": 154
        },
        "id": "Z1j--8qbYCY8",
        "outputId": "12efe557-fb9e-4bb9-b9fb-5c2ab136ef7f"
      },
      "source": [
        "#level 2: calculate the number of worked jobs for each of the graphic designers\n",
        "pd.read_sql(\n",
        "    \"\"\"\n",
        "     select distinct booked_worker,count(distinct id)\n",
        "     from jobs \n",
        "     where role_id=1 and booked_worker is not null\n",
        "     group by 1\n",
        "     limit 3   \n",
        "    \"\"\", db_conn\n",
        ")\n"
      ],
      "execution_count": null,
      "outputs": [
        {
          "output_type": "execute_result",
          "data": {
            "application/vnd.google.colaboratory.module+javascript": "\n      import \"https://ssl.gstatic.com/colaboratory/data_table/a6224c040fa35dcf/data_table.js\";\n\n      window.createDataTable({\n        data: [[{\n            'v': 0,\n            'f': \"0\",\n        },\n{\n            'v': 2,\n            'f': \"2\",\n        },\n{\n            'v': 22,\n            'f': \"22\",\n        }],\n [{\n            'v': 1,\n            'f': \"1\",\n        },\n{\n            'v': 12,\n            'f': \"12\",\n        },\n{\n            'v': 30,\n            'f': \"30\",\n        }],\n [{\n            'v': 2,\n            'f': \"2\",\n        },\n{\n            'v': 15,\n            'f': \"15\",\n        },\n{\n            'v': 25,\n            'f': \"25\",\n        }]],\n        columns: [[\"number\", \"index\"], [\"number\", \"booked_worker\"], [\"number\", \"count(distinct id)\"]],\n        columnOptions: [{\"width\": \"1px\", \"className\": \"index_column\"}],\n        rowsPerPage: 25,\n        helpUrl: \"https://colab.research.google.com/notebooks/data_table.ipynb\",\n        suppressOutputScrolling: true,\n        minimumWidth: undefined,\n      });\n    ",
            "text/html": [
              "<div>\n",
              "<style scoped>\n",
              "    .dataframe tbody tr th:only-of-type {\n",
              "        vertical-align: middle;\n",
              "    }\n",
              "\n",
              "    .dataframe tbody tr th {\n",
              "        vertical-align: top;\n",
              "    }\n",
              "\n",
              "    .dataframe thead th {\n",
              "        text-align: right;\n",
              "    }\n",
              "</style>\n",
              "<table border=\"1\" class=\"dataframe\">\n",
              "  <thead>\n",
              "    <tr style=\"text-align: right;\">\n",
              "      <th></th>\n",
              "      <th>booked_worker</th>\n",
              "      <th>count(distinct id)</th>\n",
              "    </tr>\n",
              "  </thead>\n",
              "  <tbody>\n",
              "    <tr>\n",
              "      <th>0</th>\n",
              "      <td>2</td>\n",
              "      <td>22</td>\n",
              "    </tr>\n",
              "    <tr>\n",
              "      <th>1</th>\n",
              "      <td>12</td>\n",
              "      <td>30</td>\n",
              "    </tr>\n",
              "    <tr>\n",
              "      <th>2</th>\n",
              "      <td>15</td>\n",
              "      <td>25</td>\n",
              "    </tr>\n",
              "  </tbody>\n",
              "</table>\n",
              "</div>"
            ],
            "text/plain": [
              "   booked_worker  count(distinct id)\n",
              "0              2                  22\n",
              "1             12                  30\n",
              "2             15                  25"
            ]
          },
          "metadata": {},
          "execution_count": 31
        }
      ]
    },
    {
      "cell_type": "code",
      "metadata": {
        "colab": {
          "base_uri": "https://localhost:8080/",
          "height": 111
        },
        "id": "50cVKO8RdbQX",
        "outputId": "465d2ec7-a05c-498e-a003-425d603c6f1f"
      },
      "source": [
        "#level 3: calculate the average number of jobs per worker, worked by graphic designers\n",
        "pd.read_sql(\n",
        "    \"\"\"\n",
        "     \n",
        "     with workedjobsbyGD as\n",
        "     (\n",
        "     select distinct booked_worker,count(distinct id) as workedjobs\n",
        "     from jobs \n",
        "     where role_id=1 and booked_worker is not null\n",
        "     group by 1\n",
        "     )\n",
        "     select round(avg(workedjobs)) as AvgNoOfJobsPerWorker from workedjobsbyGD\n",
        "    \"\"\", db_conn\n",
        ")"
      ],
      "execution_count": null,
      "outputs": [
        {
          "output_type": "execute_result",
          "data": {
            "application/vnd.google.colaboratory.module+javascript": "\n      import \"https://ssl.gstatic.com/colaboratory/data_table/a6224c040fa35dcf/data_table.js\";\n\n      window.createDataTable({\n        data: [[{\n            'v': 0,\n            'f': \"0\",\n        },\n{\n            'v': 13.0,\n            'f': \"13.0\",\n        }]],\n        columns: [[\"number\", \"index\"], [\"number\", \"AvgNoOfJobsPerWorker\"]],\n        columnOptions: [{\"width\": \"1px\", \"className\": \"index_column\"}],\n        rowsPerPage: 25,\n        helpUrl: \"https://colab.research.google.com/notebooks/data_table.ipynb\",\n        suppressOutputScrolling: true,\n        minimumWidth: undefined,\n      });\n    ",
            "text/html": [
              "<div>\n",
              "<style scoped>\n",
              "    .dataframe tbody tr th:only-of-type {\n",
              "        vertical-align: middle;\n",
              "    }\n",
              "\n",
              "    .dataframe tbody tr th {\n",
              "        vertical-align: top;\n",
              "    }\n",
              "\n",
              "    .dataframe thead th {\n",
              "        text-align: right;\n",
              "    }\n",
              "</style>\n",
              "<table border=\"1\" class=\"dataframe\">\n",
              "  <thead>\n",
              "    <tr style=\"text-align: right;\">\n",
              "      <th></th>\n",
              "      <th>AvgNoOfJobsPerWorker</th>\n",
              "    </tr>\n",
              "  </thead>\n",
              "  <tbody>\n",
              "    <tr>\n",
              "      <th>0</th>\n",
              "      <td>13.0</td>\n",
              "    </tr>\n",
              "  </tbody>\n",
              "</table>\n",
              "</div>"
            ],
            "text/plain": [
              "   AvgNoOfJobsPerWorker\n",
              "0                  13.0"
            ]
          },
          "metadata": {},
          "execution_count": 35
        }
      ]
    },
    {
      "cell_type": "code",
      "metadata": {
        "colab": {
          "base_uri": "https://localhost:8080/",
          "height": 197
        },
        "id": "61gv_zI2XLKk",
        "outputId": "13c4a02d-a7c3-4c91-b971-b8decfa756fe"
      },
      "source": [
        "#workers\n",
        "pd.read_sql(\n",
        "    \"\"\"\n",
        "     select * from workers limit 5\n",
        "        \n",
        "    \"\"\", db_conn\n",
        ")"
      ],
      "execution_count": null,
      "outputs": [
        {
          "output_type": "execute_result",
          "data": {
            "application/vnd.google.colaboratory.module+javascript": "\n      import \"https://ssl.gstatic.com/colaboratory/data_table/a6224c040fa35dcf/data_table.js\";\n\n      window.createDataTable({\n        data: [[{\n            'v': 0,\n            'f': \"0\",\n        },\n{\n            'v': 1,\n            'f': \"1\",\n        },\n\"Yale\",\n\"Dobbins\",\n\"1997-04-18 00:00:00\",\n\"2020-12-01 00:00:00\",\n{\n            'v': 2,\n            'f': \"2\",\n        }],\n [{\n            'v': 1,\n            'f': \"1\",\n        },\n{\n            'v': 2,\n            'f': \"2\",\n        },\n\"Easter\",\n\"Sollime\",\n\"1992-12-25 00:00:00\",\n\"2020-12-02 00:00:00\",\n{\n            'v': 1,\n            'f': \"1\",\n        }],\n [{\n            'v': 2,\n            'f': \"2\",\n        },\n{\n            'v': 3,\n            'f': \"3\",\n        },\n\"Irwin\",\n\"Hissett\",\n\"1980-07-22 00:00:00\",\n\"2020-12-03 00:00:00\",\n{\n            'v': 5,\n            'f': \"5\",\n        }],\n [{\n            'v': 3,\n            'f': \"3\",\n        },\n{\n            'v': 4,\n            'f': \"4\",\n        },\n\"Franklyn\",\n\"Dabner\",\n\"1999-10-01 00:00:00\",\n\"2020-12-04 00:00:00\",\n{\n            'v': 2,\n            'f': \"2\",\n        }],\n [{\n            'v': 4,\n            'f': \"4\",\n        },\n{\n            'v': 5,\n            'f': \"5\",\n        },\n\"Stefania\",\n\"Shropshire\",\n\"1990-03-15 00:00:00\",\n\"2020-12-05 00:00:00\",\n{\n            'v': 4,\n            'f': \"4\",\n        }]],\n        columns: [[\"number\", \"index\"], [\"number\", \"id\"], [\"string\", \"first_name\"], [\"string\", \"last_name\"], [\"string\", \"date_of_birth\"], [\"string\", \"created_at\"], [\"number\", \"role_id\"]],\n        columnOptions: [{\"width\": \"1px\", \"className\": \"index_column\"}],\n        rowsPerPage: 25,\n        helpUrl: \"https://colab.research.google.com/notebooks/data_table.ipynb\",\n        suppressOutputScrolling: true,\n        minimumWidth: undefined,\n      });\n    ",
            "text/html": [
              "<div>\n",
              "<style scoped>\n",
              "    .dataframe tbody tr th:only-of-type {\n",
              "        vertical-align: middle;\n",
              "    }\n",
              "\n",
              "    .dataframe tbody tr th {\n",
              "        vertical-align: top;\n",
              "    }\n",
              "\n",
              "    .dataframe thead th {\n",
              "        text-align: right;\n",
              "    }\n",
              "</style>\n",
              "<table border=\"1\" class=\"dataframe\">\n",
              "  <thead>\n",
              "    <tr style=\"text-align: right;\">\n",
              "      <th></th>\n",
              "      <th>id</th>\n",
              "      <th>first_name</th>\n",
              "      <th>last_name</th>\n",
              "      <th>date_of_birth</th>\n",
              "      <th>created_at</th>\n",
              "      <th>role_id</th>\n",
              "    </tr>\n",
              "  </thead>\n",
              "  <tbody>\n",
              "    <tr>\n",
              "      <th>0</th>\n",
              "      <td>1</td>\n",
              "      <td>Yale</td>\n",
              "      <td>Dobbins</td>\n",
              "      <td>1997-04-18 00:00:00</td>\n",
              "      <td>2020-12-01 00:00:00</td>\n",
              "      <td>2</td>\n",
              "    </tr>\n",
              "    <tr>\n",
              "      <th>1</th>\n",
              "      <td>2</td>\n",
              "      <td>Easter</td>\n",
              "      <td>Sollime</td>\n",
              "      <td>1992-12-25 00:00:00</td>\n",
              "      <td>2020-12-02 00:00:00</td>\n",
              "      <td>1</td>\n",
              "    </tr>\n",
              "    <tr>\n",
              "      <th>2</th>\n",
              "      <td>3</td>\n",
              "      <td>Irwin</td>\n",
              "      <td>Hissett</td>\n",
              "      <td>1980-07-22 00:00:00</td>\n",
              "      <td>2020-12-03 00:00:00</td>\n",
              "      <td>5</td>\n",
              "    </tr>\n",
              "    <tr>\n",
              "      <th>3</th>\n",
              "      <td>4</td>\n",
              "      <td>Franklyn</td>\n",
              "      <td>Dabner</td>\n",
              "      <td>1999-10-01 00:00:00</td>\n",
              "      <td>2020-12-04 00:00:00</td>\n",
              "      <td>2</td>\n",
              "    </tr>\n",
              "    <tr>\n",
              "      <th>4</th>\n",
              "      <td>5</td>\n",
              "      <td>Stefania</td>\n",
              "      <td>Shropshire</td>\n",
              "      <td>1990-03-15 00:00:00</td>\n",
              "      <td>2020-12-05 00:00:00</td>\n",
              "      <td>4</td>\n",
              "    </tr>\n",
              "  </tbody>\n",
              "</table>\n",
              "</div>"
            ],
            "text/plain": [
              "   id first_name   last_name        date_of_birth           created_at  role_id\n",
              "0   1       Yale     Dobbins  1997-04-18 00:00:00  2020-12-01 00:00:00        2\n",
              "1   2     Easter     Sollime  1992-12-25 00:00:00  2020-12-02 00:00:00        1\n",
              "2   3      Irwin     Hissett  1980-07-22 00:00:00  2020-12-03 00:00:00        5\n",
              "3   4   Franklyn      Dabner  1999-10-01 00:00:00  2020-12-04 00:00:00        2\n",
              "4   5   Stefania  Shropshire  1990-03-15 00:00:00  2020-12-05 00:00:00        4"
            ]
          },
          "metadata": {},
          "execution_count": 9
        }
      ]
    },
    {
      "cell_type": "code",
      "metadata": {
        "colab": {
          "base_uri": "https://localhost:8080/",
          "height": 197
        },
        "id": "RAtRqP0CXNPC",
        "outputId": "1f3fd67f-dcda-41f7-94df-8b882eef1f29"
      },
      "source": [
        "#roles\n",
        "pd.read_sql(\n",
        "    \"\"\"\n",
        "     select * from roles limit 5\n",
        "        \n",
        "    \"\"\", db_conn\n",
        ")"
      ],
      "execution_count": null,
      "outputs": [
        {
          "output_type": "execute_result",
          "data": {
            "application/vnd.google.colaboratory.module+javascript": "\n      import \"https://ssl.gstatic.com/colaboratory/data_table/a6224c040fa35dcf/data_table.js\";\n\n      window.createDataTable({\n        data: [[{\n            'v': 0,\n            'f': \"0\",\n        },\n{\n            'v': 1,\n            'f': \"1\",\n        },\n\"graphic_designer\",\n{\n            'v': 1,\n            'f': \"1\",\n        },\n{\n            'v': 11,\n            'f': \"11\",\n        }],\n [{\n            'v': 1,\n            'f': \"1\",\n        },\n{\n            'v': 2,\n            'f': \"2\",\n        },\n\"web_designer\",\n{\n            'v': 1,\n            'f': \"1\",\n        },\n{\n            'v': 12,\n            'f': \"12\",\n        }],\n [{\n            'v': 2,\n            'f': \"2\",\n        },\n{\n            'v': 3,\n            'f': \"3\",\n        },\n\"ui_designer\",\n{\n            'v': 1,\n            'f': \"1\",\n        },\n{\n            'v': 12,\n            'f': \"12\",\n        }],\n [{\n            'v': 3,\n            'f': \"3\",\n        },\n{\n            'v': 4,\n            'f': \"4\",\n        },\n\"content_designer\",\n{\n            'v': 1,\n            'f': \"1\",\n        },\n{\n            'v': 14,\n            'f': \"14\",\n        }],\n [{\n            'v': 4,\n            'f': \"4\",\n        },\n{\n            'v': 5,\n            'f': \"5\",\n        },\n\"visual_designer\",\n{\n            'v': 1,\n            'f': \"1\",\n        },\n{\n            'v': 11,\n            'f': \"11\",\n        }]],\n        columns: [[\"number\", \"index\"], [\"number\", \"id\"], [\"string\", \"title\"], [\"number\", \"industry_id\"], [\"number\", \"min_hour_pay_rate\"]],\n        columnOptions: [{\"width\": \"1px\", \"className\": \"index_column\"}],\n        rowsPerPage: 25,\n        helpUrl: \"https://colab.research.google.com/notebooks/data_table.ipynb\",\n        suppressOutputScrolling: true,\n        minimumWidth: undefined,\n      });\n    ",
            "text/html": [
              "<div>\n",
              "<style scoped>\n",
              "    .dataframe tbody tr th:only-of-type {\n",
              "        vertical-align: middle;\n",
              "    }\n",
              "\n",
              "    .dataframe tbody tr th {\n",
              "        vertical-align: top;\n",
              "    }\n",
              "\n",
              "    .dataframe thead th {\n",
              "        text-align: right;\n",
              "    }\n",
              "</style>\n",
              "<table border=\"1\" class=\"dataframe\">\n",
              "  <thead>\n",
              "    <tr style=\"text-align: right;\">\n",
              "      <th></th>\n",
              "      <th>id</th>\n",
              "      <th>title</th>\n",
              "      <th>industry_id</th>\n",
              "      <th>min_hour_pay_rate</th>\n",
              "    </tr>\n",
              "  </thead>\n",
              "  <tbody>\n",
              "    <tr>\n",
              "      <th>0</th>\n",
              "      <td>1</td>\n",
              "      <td>graphic_designer</td>\n",
              "      <td>1</td>\n",
              "      <td>11</td>\n",
              "    </tr>\n",
              "    <tr>\n",
              "      <th>1</th>\n",
              "      <td>2</td>\n",
              "      <td>web_designer</td>\n",
              "      <td>1</td>\n",
              "      <td>12</td>\n",
              "    </tr>\n",
              "    <tr>\n",
              "      <th>2</th>\n",
              "      <td>3</td>\n",
              "      <td>ui_designer</td>\n",
              "      <td>1</td>\n",
              "      <td>12</td>\n",
              "    </tr>\n",
              "    <tr>\n",
              "      <th>3</th>\n",
              "      <td>4</td>\n",
              "      <td>content_designer</td>\n",
              "      <td>1</td>\n",
              "      <td>14</td>\n",
              "    </tr>\n",
              "    <tr>\n",
              "      <th>4</th>\n",
              "      <td>5</td>\n",
              "      <td>visual_designer</td>\n",
              "      <td>1</td>\n",
              "      <td>11</td>\n",
              "    </tr>\n",
              "  </tbody>\n",
              "</table>\n",
              "</div>"
            ],
            "text/plain": [
              "   id             title  industry_id  min_hour_pay_rate\n",
              "0   1  graphic_designer            1                 11\n",
              "1   2      web_designer            1                 12\n",
              "2   3       ui_designer            1                 12\n",
              "3   4  content_designer            1                 14\n",
              "4   5   visual_designer            1                 11"
            ]
          },
          "metadata": {},
          "execution_count": 10
        }
      ]
    }
  ]
}